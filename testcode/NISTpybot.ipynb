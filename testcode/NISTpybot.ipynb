{
 "cells": [
  {
   "cell_type": "code",
   "execution_count": 19,
   "metadata": {
    "collapsed": false
   },
   "outputs": [
    {
     "name": "stdout",
     "output_type": "stream",
     "text": [
      "<HTML><HEAD>\n",
      "<title>XCOM: Photon Cross Sections Data for Iron</title>\n",
      "<script language=\"JavaScript\" id=\"_fed_an_js_tag\" src=\"/js/federated-analytics.all.min.js?agency=NIST&subagency=pml&pua=UA-37115410-46&yt=true\"></script>\n",
      "</HEAD>\n",
      "<body BGColor=\"#FFFFFF\" Text=\"#000000\">\n",
      "<h1>XCOM: Iron</h1>\n",
      "Constituents (Atomic Number : Fraction by Weight)\n",
      "<blockquote>Z=26 : 1.000000</blockquote>\n",
      "<pre>\n",
      "       PHOTON      SCATTERING      PHOTO-    PAIR PRODUCTION  TOTAL ATTENUATION\n",
      "       ENERGY   COHERENT INCOHER. ELECTRIC    IN       IN       WITH   WITHOUT\n",
      "                                 ABSORPTION NUCLEAR ELECTRON  COHERENT COHERENT\n",
      "                                             FIELD    FIELD    SCATT.   SCATT.\n",
      "         (MeV)    (cm2/g)   (cm2/g)   (cm2/g)   (cm2/g)   (cm2/g)   (cm2/g)   (cm2/g)\n",
      "\n",
      "       1.000E-02 1.201E+00 8.541E-02 1.694E+02 0.000E+00 0.000E+00 1.707E+02 1.695E+02\n",
      "</pre>\n",
      "<hr>\n",
      "Return to <a href=\"/PhysRefData/Xcom/html/xcom1-t.html\">selection page</a>.\n",
      "</body>\n",
      "\n",
      "\n",
      "\n",
      "======================BREAK========================\n",
      "\n",
      "\n",
      "http://physics.nist.gov/cgi-bin/Xcom/xcom3_1-t\n"
     ]
    }
   ],
   "source": [
    "import urllib\n",
    "import urllib2   \n",
    "  \n",
    "url = 'http://physics.nist.gov/cgi-bin/Xcom/xcom3_1-t' \n",
    "values = {'ZSym' : 'Fe', 'Energies': 0.01, 'OutOpt': 'PIC'}    \n",
    "\n",
    "#user_agent = 'Mozilla/4.0 (compatible; MSIE 5.5; Windows NT)' \n",
    "headers = {'User-Agent': 'Googlebot/2.1 (+http://www.google.com/bot.html)',\n",
    "'Referer':'http://physics.nist.gov/cgi-bin/Xcom/xcom2-t'}\n",
    "data = urllib.urlencode(values) \n",
    "\n",
    "req = urllib2.Request(url, data, headers) \n",
    "\n",
    "response = urllib2.urlopen(req)\n",
    "the_page = response.read()\n",
    "\n",
    "\n",
    "print the_page \n",
    "print \"\\n\\n======================BREAK========================\\n\\n\"\n",
    "print response.geturl()"
   ]
  },
  {
   "cell_type": "code",
   "execution_count": 16,
   "metadata": {
    "collapsed": false
   },
   "outputs": [
    {
     "name": "stdout",
     "output_type": "stream",
     "text": [
      "<closed file 'requests_results.html', mode 'w' at 0x7f899a6e11e0>\n"
     ]
    }
   ],
   "source": [
    "import requests\n",
    "\n",
    "url = 'http://physics.nist.gov/cgi-bin/Xcom/xcom3_1-t' \n",
    "values = {'ZSym' : 'Fe', 'Energies': 0.01}    \n",
    "payload = {'q':'python'}\n",
    "r = requests.post(url, values)\n",
    "with open(\"requests_results.html\", \"w\") as f:\n",
    "    f.write(r.content)\n",
    "    \n",
    "print f"
   ]
  },
  {
   "cell_type": "code",
   "execution_count": null,
   "metadata": {
    "collapsed": true
   },
   "outputs": [],
   "source": [
    "print type()"
   ]
  },
  {
   "cell_type": "code",
   "execution_count": 2,
   "metadata": {
    "collapsed": true
   },
   "outputs": [],
   "source": [
    "req = urllib2.Request(url, data, headers) \n",
    "\n",
    "response = urllib2.urlopen(req)\n",
    "the_page = response.read()"
   ]
  },
  {
   "cell_type": "code",
   "execution_count": 3,
   "metadata": {
    "collapsed": false
   },
   "outputs": [
    {
     "name": "stdout",
     "output_type": "stream",
     "text": [
      "<HTML><HEAD>\n",
      "<title>XCOM: Error</title></head>\n",
      "<body BGColor=\"#FFFFFF\" Text=\"#000000\">\n",
      "<h1> Error: The output file could not be created (There may be too many energies).</h1>\n",
      "\n",
      "http://physics.nist.gov/cgi-bin/Xcom/xcom3_1-t\n"
     ]
    }
   ],
   "source": [
    "\n",
    "print the_page \n",
    "print response.geturl()"
   ]
  },
  {
   "cell_type": "code",
   "execution_count": 6,
   "metadata": {
    "collapsed": false
   },
   "outputs": [
    {
     "name": "stdout",
     "output_type": "stream",
     "text": [
      "<HTML><HEAD>\n",
      "<TITLE>NIST XCOM: Element/Compound/Mixture</TITLE>\n",
      "<script language=\"JavaScript\" id=\"_fed_an_js_tag\" src=\"/js/federated-analytics.all.min.js?agency=NIST&subagency=pml&pua=UA-37115410-46&yt=true\"></script>\n",
      "</HEAD>\n",
      "\n",
      "<BODY bgcolor=\"#FFFFFF\" Text=\"#000000\">\n",
      "\n",
      "<DIV ALIGN=\"center\">\n",
      "<table width=\"100%\" cellspacing=\"0\" cellpadding=\"0\" border=\"0\">\n",
      "<tr>\n",
      "<td align=\"left\"><img src=\"/Images/But/nist-pl-black.gif\" width=\"136\" \n",
      "height=\"68\" usemap=\"#NIST-PL\" alt=\"NIST Physical Measurement Laboratory\" border=\"0\"></td>\n",
      "<td align=\"center\"><A href=\"../Text/XCOM.html\"><img src=\"../Text/XCOM-sm.jpg\" \n",
      "BORDER=\"0\" ALT=\"XCOM Photon Cross Sections Database\" WIDTH=\"300\" \n",
      "HEIGHT=\"94\"></A></td>\n",
      "<td align=\"right\"><img src=\"/Images/space.gif\" width=\"136\" height=\"68\" alt=\"\"></td>\n",
      "</tr></table><br clear=\"all\">\n",
      "<map name=\"NIST-PL\">\n",
      "    <area shape=\"rect\" coords=\"0,0,1,1\" href=\"#start\" alt=\"[skip navigation]\">\n",
      "    <area shape=\"rect\" coords=\"1,1,135,48\" href=\"http://www.nist.gov\" \n",
      "    alt=\"National Institute of Standards and Technology\">\n",
      "    <area shape=\"rect\" coords=\"1,50,135,67\" href=\"/\" alt=\"NIST Physical Measurement Laboratory\">\n",
      "</map>\n",
      "<A name=\"start\"><!-- filler --></A>\n",
      "</DIV>\n",
      "\n",
      "<H3>Element/Compound/Mixture Selection</H3>\n",
      "\n",
      "In this database, it is possible to obtain photon cross section data for a \n",
      "single element, compound, or mixture (a combination of elements and compounds).\n",
      "\n",
      "<P>\n",
      "<A href=\"/PhysRefData/Xcom/Text/chap4.html\">Help</A>\n",
      "\n",
      "<HR SIZE=\"1\" NOSHADE>\n",
      "\n",
      "<BLOCKQUOTE><BLOCKQUOTE>\n",
      "<form method=\"POST\" action=\"/cgi-bin/Xcom/xcom2-t\">\n",
      "\n",
      "<H4>Identify material by:</H4>\n",
      "\n",
      "<BLOCKQUOTE>\n",
      "<input type=\"radio\" checked name=\"Method\" value=\"Elem\"> Element<br>\n",
      "<input type=\"radio\" name=\"Method\" value=\"Comp\"> Compound<br>\n",
      "<input type=\"radio\" name=\"Method\" value=\"Mix\"> Mixture\n",
      "</BLOCKQUOTE>\n",
      "\n",
      "<input type=\"submit\" value=\"Submit Information\">\n",
      "<input type=\"reset\" value=\"Reset\">\n",
      "</form></BLOCKQUOTE></BLOCKQUOTE>\n",
      "\n",
      "<HR SIZE=\"1\" NOSHADE>\n",
      "\n",
      "<A href=\"../Text/XCOM.html\"><img src=\"../Text/XCOMsm.jpg\" BORDER=\"0\"\n",
      "WIDTH=\"130\" HEIGHT=\"50\" ALT=\"XCOM Photon Cross Sections Database homepage\"></A>\n",
      "\n",
      "</BODY>\n",
      "</HTML>\n",
      "\n",
      "\n",
      "\n",
      "======================BREAK========================\n",
      "\n",
      "\n",
      "http://physics.nist.gov/PhysRefData/Xcom/html/xcom1-t.html\n"
     ]
    }
   ],
   "source": [
    "url2='http://physics.nist.gov/PhysRefData/Xcom/html/xcom1-t.html'\n",
    "\n",
    "req = urllib2.Request(url2) \n",
    "\n",
    "response = urllib2.urlopen(req)\n",
    "the_page = response.read()\n",
    "\n",
    "\n",
    "print the_page \n",
    "\n",
    "print \"\\n\\n======================BREAK========================\\n\\n\"\n",
    "print response.geturl()"
   ]
  },
  {
   "cell_type": "code",
   "execution_count": 7,
   "metadata": {
    "collapsed": false
   },
   "outputs": [
    {
     "name": "stdout",
     "output_type": "stream",
     "text": [
      "<type 'str'>\n"
     ]
    }
   ],
   "source": [
    "print type(the_page)"
   ]
  },
  {
   "cell_type": "code",
   "execution_count": 8,
   "metadata": {
    "collapsed": true
   },
   "outputs": [],
   "source": [
    "text_file = open(\"outpybot1.txt\", \"w\")\n",
    "text_file.write(\"%s\" % the_page)\n",
    "text_file.close()"
   ]
  },
  {
   "cell_type": "code",
   "execution_count": 9,
   "metadata": {
    "collapsed": false
   },
   "outputs": [
    {
     "name": "stdout",
     "output_type": "stream",
     "text": [
      "<HTML><HEAD>\n",
      "<TITLE>NIST XCOM: Element/Compound/Mixture</TITLE>\n",
      "<script language=\"JavaScript\" id=\"_fed_an_js_tag\" src=\"/js/federated-analytics.all.min.js?agency=NIST&subagency=pml&pua=UA-37115410-46&yt=true\"></script>\n",
      "</HEAD>\n",
      "\n",
      "<BODY bgcolor=\"#FFFFFF\" Text=\"#000000\">\n",
      "\n",
      "<DIV ALIGN=\"center\">\n",
      "<table width=\"100%\" cellspacing=\"0\" cellpadding=\"0\" border=\"0\">\n",
      "<tr>\n",
      "<td align=\"left\"><img src=\"/Images/But/nist-pl-black.gif\" width=\"136\" \n",
      "height=\"68\" usemap=\"#NIST-PL\" alt=\"NIST Physical Measurement Laboratory\" border=\"0\"></td>\n",
      "<td align=\"center\"><A href=\"../Text/XCOM.html\"><img src=\"../Text/XCOM-sm.jpg\" \n",
      "BORDER=\"0\" ALT=\"XCOM Photon Cross Sections Database\" WIDTH=\"300\" \n",
      "HEIGHT=\"94\"></A></td>\n",
      "<td align=\"right\"><img src=\"/Images/space.gif\" width=\"136\" height=\"68\" alt=\"\"></td>\n",
      "</tr></table><br clear=\"all\">\n",
      "<map name=\"NIST-PL\">\n",
      "    <area shape=\"rect\" coords=\"0,0,1,1\" href=\"#start\" alt=\"[skip navigation]\">\n",
      "    <area shape=\"rect\" coords=\"1,1,135,48\" href=\"http://www.nist.gov\" \n",
      "    alt=\"National Institute of Standards and Technology\">\n",
      "    <area shape=\"rect\" coords=\"1,50,135,67\" href=\"/\" alt=\"NIST Physical Measurement Laboratory\">\n",
      "</map>\n",
      "<A name=\"start\"><!-- filler --></A>\n",
      "</DIV>\n",
      "\n",
      "<H3>Element/Compound/Mixture Selection</H3>\n",
      "\n",
      "In this database, it is possible to obtain photon cross section data for a \n",
      "single element, compound, or mixture (a combination of elements and compounds).\n",
      "\n",
      "<P>\n",
      "<A href=\"/PhysRefData/Xcom/Text/chap4.html\">Help</A>\n",
      "\n",
      "<HR SIZE=\"1\" NOSHADE>\n",
      "\n",
      "<BLOCKQUOTE><BLOCKQUOTE>\n",
      "<form method=\"POST\" action=\"/cgi-bin/Xcom/xcom2-t\">\n",
      "\n",
      "<H4>Identify material by:</H4>\n",
      "\n",
      "<BLOCKQUOTE>\n",
      "<input type=\"radio\" checked name=\"Method\" value=\"Elem\"> Element<br>\n",
      "<input type=\"radio\" name=\"Method\" value=\"Comp\"> Compound<br>\n",
      "<input type=\"radio\" name=\"Method\" value=\"Mix\"> Mixture\n",
      "</BLOCKQUOTE>\n",
      "\n",
      "<input type=\"submit\" value=\"Submit Information\">\n",
      "<input type=\"reset\" value=\"Reset\">\n",
      "</form></BLOCKQUOTE></BLOCKQUOTE>\n",
      "\n",
      "<HR SIZE=\"1\" NOSHADE>\n",
      "\n",
      "<A href=\"../Text/XCOM.html\"><img src=\"../Text/XCOMsm.jpg\" BORDER=\"0\"\n",
      "WIDTH=\"130\" HEIGHT=\"50\" ALT=\"XCOM Photon Cross Sections Database homepage\"></A>\n",
      "\n",
      "</BODY>\n",
      "</HTML>\n",
      "\n",
      "\n",
      "\n",
      "======================BREAK========================\n",
      "\n",
      "\n",
      "http://physics.nist.gov/PhysRefData/Xcom/html/xcom1-t.html\n"
     ]
    }
   ],
   "source": [
    "response2 = urllib2.urlopen(req,the_page)\n",
    "the_page2 = response2.read()\n",
    "\n",
    "\n",
    "print the_page2\n",
    "\n",
    "print \"\\n\\n======================BREAK========================\\n\\n\"\n",
    "print response2.geturl()"
   ]
  },
  {
   "cell_type": "code",
   "execution_count": 4,
   "metadata": {
    "collapsed": false
   },
   "outputs": [
    {
     "name": "stdout",
     "output_type": "stream",
     "text": [
      "<HTML><HEAD>\n",
      "<title>XCOM: Photon Cross Sections Data for Hydrogen</title>\n",
      "<script language=\"JavaScript\" id=\"_fed_an_js_tag\" src=\"/js/federated-analytics.all.min.js?agency=NIST&subagency=pml&pua=UA-37115410-46&yt=true\"></script>\n",
      "</HEAD>\n",
      "<body BGColor=\"#FFFFFF\" Text=\"#000000\">\n",
      "<h1>XCOM: Hydrogen</h1>\n",
      "Constituents (Atomic Number : Fraction by Weight)\n",
      "<blockquote>Z=1 : 1.000000</blockquote>\n",
      "<pre>\n",
      "       PHOTON      SCATTERING      PHOTO-    PAIR PRODUCTION  TOTAL ATTENUATION\n",
      "       ENERGY   COHERENT INCOHER. ELECTRIC    IN       IN       WITH   WITHOUT\n",
      "                                 ABSORPTION NUCLEAR ELECTRON  COHERENT COHERENT\n",
      "                                             FIELD    FIELD    SCATT.   SCATT.\n",
      "         (MeV)    (cm2/g)   (cm2/g)   (cm2/g)   (cm2/g)   (cm2/g)   (cm2/g)   (cm2/g)\n",
      "\n",
      "       1.000E-03 3.468E-01 5.033E-02 6.817E+00 0.000E+00 0.000E+00 7.214E+00 6.867E+00\n",
      "       1.500E-03 2.978E-01 9.858E-02 1.752E+00 0.000E+00 0.000E+00 2.148E+00 1.850E+00\n",
      "       2.000E-03 2.474E-01 1.481E-01 6.638E-01 0.000E+00 0.000E+00 1.059E+00 8.118E-01\n",
      "       3.000E-03 1.651E-01 2.284E-01 1.677E-01 0.000E+00 0.000E+00 5.611E-01 3.960E-01\n",
      "       4.000E-03 1.124E-01 2.793E-01 6.291E-02 0.000E+00 0.000E+00 4.546E-01 3.422E-01\n",
      "       5.000E-03 8.012E-02 3.099E-01 2.932E-02 0.000E+00 0.000E+00 4.193E-01 3.392E-01\n",
      "       6.000E-03 5.968E-02 3.288E-01 1.570E-02 0.000E+00 0.000E+00 4.042E-01 3.445E-01\n",
      "       8.000E-03 3.660E-02 3.489E-01 5.865E-03 0.000E+00 0.000E+00 3.914E-01 3.548E-01\n",
      "       1.000E-02 2.462E-02 3.581E-01 2.723E-03 0.000E+00 0.000E+00 3.854E-01 3.608E-01\n",
      "       1.500E-02 1.161E-02 3.642E-01 6.739E-04 0.000E+00 0.000E+00 3.764E-01 3.648E-01\n",
      "       2.000E-02 6.686E-03 3.625E-01 2.499E-04 0.000E+00 0.000E+00 3.695E-01 3.628E-01\n",
      "       3.000E-02 3.024E-03 3.539E-01 6.166E-05 0.000E+00 0.000E+00 3.570E-01 3.540E-01\n",
      "       4.000E-02 1.712E-03 3.441E-01 2.284E-05 0.000E+00 0.000E+00 3.458E-01 3.441E-01\n",
      "       5.000E-02 1.099E-03 3.344E-01 1.058E-05 0.000E+00 0.000E+00 3.355E-01 3.344E-01\n",
      "       6.000E-02 7.648E-04 3.253E-01 5.649E-06 0.000E+00 0.000E+00 3.260E-01 3.253E-01\n",
      "       8.000E-02 4.308E-04 3.087E-01 2.105E-06 0.000E+00 0.000E+00 3.091E-01 3.087E-01\n",
      "       1.000E-01 2.760E-04 2.941E-01 9.822E-07 0.000E+00 0.000E+00 2.944E-01 2.941E-01\n",
      "       1.500E-01 1.228E-04 2.650E-01 2.495E-07 0.000E+00 0.000E+00 2.651E-01 2.650E-01\n",
      "       2.000E-01 6.907E-05 2.428E-01 9.625E-08 0.000E+00 0.000E+00 2.429E-01 2.428E-01\n",
      "       3.000E-01 3.070E-05 2.112E-01 2.637E-08 0.000E+00 0.000E+00 2.112E-01 2.112E-01\n",
      "       4.000E-01 1.727E-05 1.893E-01 1.110E-08 0.000E+00 0.000E+00 1.893E-01 1.893E-01\n",
      "       5.000E-01 1.105E-05 1.728E-01 5.931E-09 0.000E+00 0.000E+00 1.729E-01 1.728E-01\n",
      "       6.000E-01 7.677E-06 1.599E-01 3.679E-09 0.000E+00 0.000E+00 1.599E-01 1.599E-01\n",
      "       8.000E-01 4.318E-06 1.405E-01 1.863E-09 0.000E+00 0.000E+00 1.405E-01 1.405E-01\n",
      "       1.000E+00 2.763E-06 1.263E-01 1.172E-09 0.000E+00 0.000E+00 1.263E-01 1.263E-01\n",
      "       1.022E+00 2.646E-06 1.250E-01 1.123E-09 0.000E+00 0.000E+00 1.250E-01 1.250E-01\n",
      "       1.250E+00 1.769E-06 1.129E-01 7.791E-10 4.663E-06 0.000E+00 1.129E-01 1.129E-01\n",
      "       1.500E+00 1.228E-06 1.026E-01 5.815E-10 2.620E-05 0.000E+00 1.027E-01 1.027E-01\n",
      "       2.000E+00 6.907E-07 8.759E-02 3.705E-10 1.050E-04 0.000E+00 8.769E-02 8.769E-02\n",
      "       2.044E+00 6.614E-07 8.651E-02 3.587E-10 1.132E-04 0.000E+00 8.663E-02 8.663E-02\n",
      "       3.000E+00 3.070E-07 6.889E-02 2.105E-10 3.016E-04 2.411E-05 6.921E-02 6.921E-02\n",
      "       4.000E+00 1.727E-07 5.748E-02 1.460E-10 4.900E-04 9.840E-05 5.807E-02 5.807E-02\n",
      "       5.000E+00 1.105E-07 4.964E-02 1.115E-10 6.584E-04 1.961E-04 5.049E-02 5.049E-02\n",
      "       6.000E+00 7.677E-08 4.387E-02 9.010E-11 8.096E-04 3.012E-04 4.498E-02 4.498E-02\n",
      "       7.000E+00 5.640E-08 3.943E-02 7.552E-11 9.440E-04 4.062E-04 4.078E-02 4.078E-02\n",
      "       8.000E+00 4.318E-08 3.589E-02 6.500E-11 1.066E-03 5.080E-04 3.746E-02 3.746E-02\n",
      "       9.000E+00 3.412E-08 3.299E-02 5.703E-11 1.177E-03 6.058E-04 3.478E-02 3.478E-02\n",
      "       1.000E+01 2.763E-08 3.057E-02 5.080E-11 1.277E-03 6.990E-04 3.254E-02 3.254E-02\n",
      "       1.100E+01 2.284E-08 2.851E-02 4.580E-11 1.369E-03 7.875E-04 3.067E-02 3.067E-02\n",
      "       1.200E+01 1.919E-08 2.674E-02 4.169E-11 1.454E-03 8.711E-04 2.906E-02 2.906E-02\n",
      "       1.300E+01 1.635E-08 2.519E-02 3.824E-11 1.533E-03 9.500E-04 2.767E-02 2.767E-02\n",
      "       1.400E+01 1.410E-08 2.383E-02 3.533E-11 1.606E-03 1.025E-03 2.646E-02 2.646E-02\n",
      "       1.500E+01 1.228E-08 2.262E-02 3.283E-11 1.675E-03 1.097E-03 2.539E-02 2.539E-02\n",
      "       1.600E+01 1.080E-08 2.154E-02 3.066E-11 1.740E-03 1.166E-03 2.445E-02 2.445E-02\n",
      "       1.800E+01 8.532E-09 1.969E-02 2.707E-11 1.859E-03 1.293E-03 2.284E-02 2.284E-02\n",
      "       2.000E+01 6.907E-09 1.816E-02 2.424E-11 1.967E-03 1.409E-03 2.153E-02 2.153E-02\n",
      "       2.200E+01 5.709E-09 1.687E-02 2.194E-11 2.065E-03 1.517E-03 2.045E-02 2.045E-02\n",
      "       2.400E+01 4.798E-09 1.576E-02 2.004E-11 2.156E-03 1.617E-03 1.953E-02 1.953E-02\n",
      "       2.600E+01 4.088E-09 1.480E-02 1.844E-11 2.239E-03 1.710E-03 1.875E-02 1.875E-02\n",
      "       2.800E+01 3.524E-09 1.396E-02 1.708E-11 2.316E-03 1.797E-03 1.807E-02 1.807E-02\n",
      "       3.000E+01 3.070E-09 1.322E-02 1.590E-11 2.389E-03 1.878E-03 1.748E-02 1.748E-02\n",
      "       4.000E+01 1.727E-09 1.050E-02 1.184E-11 2.692E-03 2.222E-03 1.542E-02 1.542E-02\n",
      "       5.000E+01 1.105E-09 8.771E-03 9.422E-12 2.929E-03 2.493E-03 1.419E-02 1.419E-02\n",
      "       6.000E+01 7.672E-10 7.552E-03 7.827E-12 3.122E-03 2.716E-03 1.339E-02 1.339E-02\n",
      "       8.000E+01 4.315E-10 5.958E-03 5.847E-12 3.424E-03 3.069E-03 1.245E-02 1.245E-02\n",
      "       1.000E+02 2.760E-10 4.945E-03 4.667E-12 3.654E-03 3.342E-03 1.194E-02 1.194E-02\n",
      "       1.500E+02 1.227E-10 3.521E-03 3.101E-12 4.051E-03 3.831E-03 1.140E-02 1.140E-02\n",
      "       2.000E+02 6.901E-11 2.761E-03 2.322E-12 4.310E-03 4.168E-03 1.124E-02 1.124E-02\n",
      "       3.000E+02 3.067E-11 1.957E-03 1.546E-12 4.632E-03 4.619E-03 1.121E-02 1.121E-02\n",
      "       4.000E+02 1.725E-11 1.533E-03 1.158E-12 4.827E-03 4.913E-03 1.127E-02 1.127E-02\n",
      "       5.000E+02 1.104E-11 1.268E-03 9.261E-13 4.959E-03 5.123E-03 1.135E-02 1.135E-02\n",
      "       6.000E+02 7.666E-12 1.086E-03 7.713E-13 5.055E-03 5.282E-03 1.142E-02 1.142E-02\n",
      "       8.000E+02 4.313E-12 8.484E-04 5.785E-13 5.186E-03 5.510E-03 1.154E-02 1.154E-02\n",
      "       1.000E+03 2.760E-12 6.978E-04 4.627E-13 5.272E-03 5.667E-03 1.164E-02 1.164E-02\n",
      "       1.500E+03 1.227E-12 4.875E-04 3.084E-13 5.398E-03 5.908E-03 1.179E-02 1.179E-02\n",
      "       2.000E+03 6.901E-13 3.772E-04 2.312E-13 5.469E-03 6.046E-03 1.189E-02 1.189E-02\n",
      "       3.000E+03 3.067E-13 2.623E-04 1.541E-13 5.543E-03 6.202E-03 1.201E-02 1.201E-02\n",
      "       4.000E+03 1.725E-13 2.025E-04 1.156E-13 5.588E-03 6.291E-03 1.208E-02 1.208E-02\n",
      "       5.000E+03 1.104E-13 1.656E-04 9.249E-14 5.614E-03 6.351E-03 1.213E-02 1.213E-02\n",
      "       6.000E+03 7.666E-14 1.404E-04 7.707E-14 5.633E-03 6.393E-03 1.217E-02 1.217E-02\n",
      "       8.000E+03 4.313E-14 1.081E-04 5.778E-14 5.657E-03 6.447E-03 1.221E-02 1.221E-02\n",
      "       1.000E+04 2.760E-14 8.831E-05 4.623E-14 5.673E-03 6.483E-03 1.224E-02 1.224E-02\n",
      "       1.500E+04 1.227E-14 6.100E-05 3.082E-14 5.693E-03 6.530E-03 1.228E-02 1.228E-02\n",
      "       2.000E+04 6.901E-15 4.692E-05 2.311E-14 5.705E-03 6.554E-03 1.231E-02 1.231E-02\n",
      "       3.000E+04 3.067E-15 3.236E-05 1.541E-14 5.716E-03 6.584E-03 1.233E-02 1.233E-02\n",
      "       4.000E+04 1.725E-15 2.484E-05 1.156E-14 5.724E-03 6.602E-03 1.235E-02 1.235E-02\n",
      "       5.000E+04 1.104E-15 2.023E-05 9.243E-15 5.729E-03 6.608E-03 1.236E-02 1.236E-02\n",
      "       6.000E+04 7.666E-16 1.710E-05 7.701E-15 5.731E-03 6.620E-03 1.237E-02 1.237E-02\n",
      "       8.000E+04 4.313E-16 1.311E-05 5.778E-15 5.734E-03 6.626E-03 1.237E-02 1.237E-02\n",
      "       1.000E+05 2.760E-16 1.066E-05 4.622E-15 5.736E-03 6.632E-03 1.238E-02 1.238E-02\n",
      "</pre>\n",
      "<hr>\n",
      "Return to <a href=\"/PhysRefData/Xcom/html/xcom1-t.html\">selection page</a>.\n",
      "</body>\n",
      "\n",
      "\n",
      "\n",
      "======================BREAK========================\n",
      "\n",
      "\n",
      "http://physics.nist.gov/cgi-bin/Xcom/xcom3_1-t\n"
     ]
    }
   ],
   "source": [
    "#!!!!!!!!!!!!!!!!!!!!!!!!!#\n",
    "####WORKING COPY CELL######\n",
    "#!!!!!!!!!!!!!!!!!!!!!!!!!#\n",
    "\n",
    "import urllib\n",
    "import urllib2   \n",
    "  \n",
    "url = 'http://physics.nist.gov/cgi-bin/Xcom/xcom3_1-t' \n",
    "values = {'ZSym' : 'h', 'Output':'on', 'OutOpt': 'PIC'}    \n",
    "\n",
    "#user_agent = 'Mozilla/4.0 (compatible; MSIE 5.5; Windows NT)' \n",
    "headers = {'User-Agent': 'Googlebot/2.1 (+http://www.google.com/bot.html)',\n",
    "'Referer':'http://physics.nist.gov/cgi-bin/Xcom/xcom2-t'}\n",
    "data = urllib.urlencode(values) \n",
    "\n",
    "req = urllib2.Request(url, data, headers) \n",
    "\n",
    "response = urllib2.urlopen(req)\n",
    "the_page = response.read()\n",
    "\n",
    "\n",
    "print the_page \n",
    "print \"\\n\\n======================BREAK========================\\n\\n\"\n",
    "print response.geturl()"
   ]
  },
  {
   "cell_type": "code",
   "execution_count": 21,
   "metadata": {
    "collapsed": false
   },
   "outputs": [
    {
     "name": "stdout",
     "output_type": "stream",
     "text": [
      "<type 'instance'>\n"
     ]
    }
   ],
   "source": [
    "print type(response)"
   ]
  },
  {
   "cell_type": "code",
   "execution_count": 22,
   "metadata": {
    "collapsed": false
   },
   "outputs": [
    {
     "name": "stdout",
     "output_type": "stream",
     "text": [
      "<type 'str'>\n"
     ]
    }
   ],
   "source": [
    "print type(the_page)"
   ]
  },
  {
   "cell_type": "code",
   "execution_count": null,
   "metadata": {
    "collapsed": true
   },
   "outputs": [],
   "source": []
  }
 ],
 "metadata": {
  "kernelspec": {
   "display_name": "Python [Root]",
   "language": "python",
   "name": "Python [Root]"
  },
  "language_info": {
   "codemirror_mode": {
    "name": "ipython",
    "version": 2
   },
   "file_extension": ".py",
   "mimetype": "text/x-python",
   "name": "python",
   "nbconvert_exporter": "python",
   "pygments_lexer": "ipython2",
   "version": "2.7.12"
  }
 },
 "nbformat": 4,
 "nbformat_minor": 0
}

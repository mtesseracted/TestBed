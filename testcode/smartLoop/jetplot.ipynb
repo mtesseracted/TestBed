{
 "cells": [
  {
   "cell_type": "code",
   "execution_count": 49,
   "metadata": {
    "collapsed": false
   },
   "outputs": [
    {
     "name": "stdout",
     "output_type": "stream",
     "text": [
      "1.0\n"
     ]
    },
    {
     "data": {
      "text/plain": [
       "\"'               \\nplt.plot(a1[0],a1[1],label='Aspd[kt]')\\nplt.plot(a1[0],xv,label='Horiz Aspd[kt]')\\nplt.legend()\\nplt.show()\\n\""
      ]
     },
     "execution_count": 49,
     "metadata": {},
     "output_type": "execute_result"
    }
   ],
   "source": [
    "import matplotlib.pyplot as plt\n",
    "import numpy as np\n",
    "a1 = np.loadtxt('./dumb2.dat')\n",
    "a1=a1.T\n",
    "#0:time[s], 1:aspd[kt], 2:alt[kft], 3:Mach#?, 4:G, 5:Ptich[deg]\n",
    "\n",
    "d2r = np.pi/180.  #deg to radian\n",
    "k2f = 1.68781  #knots to ft per sec\n",
    "\n",
    "#Aspd vs time\n",
    "#plt.plot(a1[0],a1[1])\n",
    "#plt.show()\n",
    "xv=np.multiply(a1[1],np.cos(d2r*a1[5])*k2f)\n",
    "yv=np.multiply(a1[1],np.sin(d2r*a1[5])*k2f)\n",
    "print np.sin(90*d2r)\n",
    "\n",
    "''''               \n",
    "plt.plot(a1[0],a1[1],label='Aspd[kt]')\n",
    "plt.plot(a1[0],xv,label='Horiz Aspd[kt]')\n",
    "plt.legend()\n",
    "plt.show()\n",
    "'''"
   ]
  },
  {
   "cell_type": "code",
   "execution_count": 18,
   "metadata": {
    "collapsed": false
   },
   "outputs": [
    {
     "name": "stdout",
     "output_type": "stream",
     "text": [
      "[ 490.  489.  485.  479.  470.  460.  436.  427.  414.  390.  370.  349.\n",
      "  328.  308.  291.  271.  257.  241.  225.  216.  206.  198.  191.  187.\n",
      "  184.  184.  186.  190.  196.  203.  211.  223.  233.  247.  258.  275.\n",
      "  291.  304.  320.  336.  352.  364.  375.  386.  396.  400.  406.  410.\n",
      "  412.  414.  414.  413.  410.  406.  399.  394.]\n",
      "\n",
      "\n",
      "[ 490.          487.80882058  474.40158636  458.06997811  425.96465991\n",
      "  381.35728338  333.9953772   296.61912419  243.34309445  200.86484921\n",
      "  132.59614133   72.5611801     5.72438931  -74.51194384  -94.74033295\n",
      " -105.88813582 -139.972232   -154.91181393 -161.85145508 -174.74767078\n",
      " -181.88720413 -184.84892445 -184.49183282 -185.60613036 -183.55178525\n",
      " -181.20462655 -173.64595933 -173.57363695 -160.55380068 -143.54267658\n",
      " -135.62818564 -108.11254531  -79.69069339  -59.75470821  -35.90666005\n",
      "   -9.59736159   25.36232114   52.78904601   98.8854382   141.99973594\n",
      "  196.83590202  243.56354071  283.01609258  316.1926891   349.64724677\n",
      "  375.87704831  395.5942463   406.94392217  411.74902073  414.\n",
      "  412.99151681  409.92156063  401.0405163   392.16588547  374.93735569\n",
      "  362.67891226]\n"
     ]
    }
   ],
   "source": [
    "print a1[1]\n",
    "print '\\n'\n",
    "print xv"
   ]
  },
  {
   "cell_type": "code",
   "execution_count": 22,
   "metadata": {
    "collapsed": true
   },
   "outputs": [],
   "source": [
    "import scipy.integrate as ing\n",
    "xp=ing.simps(xv,a1[0])"
   ]
  },
  {
   "cell_type": "code",
   "execution_count": 23,
   "metadata": {
    "collapsed": false
   },
   "outputs": [
    {
     "name": "stdout",
     "output_type": "stream",
     "text": [
      "6555.7776481\n"
     ]
    }
   ],
   "source": [
    "print xp"
   ]
  },
  {
   "cell_type": "code",
   "execution_count": 26,
   "metadata": {
    "collapsed": false
   },
   "outputs": [
    {
     "name": "stdout",
     "output_type": "stream",
     "text": [
      "[  95.   96.   97.   98.   99.  100.  101.  102.  103.  104.  105.  106.\n",
      "  107.  108.  109.  110.  111.  112.  113.  114.  115.  116.  117.  118.\n",
      "  119.  120.  121.  122.  123.  124.  125.  126.  127.  128.  129.  130.\n",
      "  131.  132.  133.  134.  135.  136.  137.  138.  139.  140.  141.  142.\n",
      "  143.  144.  145.  146.  147.  148.  149.]\n"
     ]
    }
   ],
   "source": [
    "print a1[0,0:-1]"
   ]
  },
  {
   "cell_type": "code",
   "execution_count": 63,
   "metadata": {
    "collapsed": false
   },
   "outputs": [
    {
     "name": "stdout",
     "output_type": "stream",
     "text": [
      "<type 'numpy.ndarray'> 56\n",
      "<type 'numpy.ndarray'> 56\n",
      "\n",
      "\n",
      "[     0.              0.            825.17775273   1640.3470211\n",
      "   2426.0982049    3177.7428588    3857.41949101   4463.51042415\n",
      "   4992.27084527   5455.83860475   5823.53456555   6119.3722068\n",
      "   6280.54661885   6360.48444558   6291.40338089   6142.72110705\n",
      "   5969.54181095   5772.37896294   5513.73821334   5253.95633895\n",
      "   4962.07502034   4667.31333518   4350.22131858   4045.2007835\n",
      "   3725.94544365   3420.44770666   3106.10461648   2811.70175724\n",
      "   2513.94403702   2233.06743135   1972.96122754   1743.40410529\n",
      "   1530.19605054   1378.96707273   1255.09537154   1179.45882427\n",
      "   1135.06878136   1151.92851356   1214.16807208   1340.62789012\n",
      "   1543.24466037   1826.55980097   2200.33682173   2644.64477218\n",
      "   3152.30125945   3712.14751922   4327.45756327   4977.30158858\n",
      "   5657.8649213    6347.30763014   7046.89745588   7742.98052569\n",
      "   8440.00858649   9123.45060662   9794.59081884  10442.55368154]\n"
     ]
    }
   ],
   "source": [
    "n = len(a1[0])\n",
    "xp = np.empty(n)\n",
    "xp2 = np.empty(n)\n",
    "yp = np.empty(n)\n",
    "yp2 = np.empty(n)\n",
    "yp2[0]=yp[0]=xp[0]=xp2[0]=0.\n",
    "for i in range(1,n):\n",
    "    xp[i]=ing.simps(xv[0:i],a1[0,0:i])\n",
    "    yp[i]=ing.simps(yv[0:i],a1[0,0:i])\n",
    "    xp2[i]=ing.trapz(xv[0:i],a1[0,0:i])\n",
    "    \n",
    "xp3=ing.cumtrapz(xv,a1[0],initial=0.)\n",
    "yp2=ing.cumtrapz(yv,a1[0],initial=0.)\n",
    "\n",
    "xp4=np.subtract(xp3,xp2)\n",
    "\n",
    "\n",
    "    \n",
    "\n",
    "print type(a1), len(a1[0])\n",
    "print type(xp), len(xp)\n",
    "print '\\n'\n",
    "print xp"
   ]
  },
  {
   "cell_type": "code",
   "execution_count": 65,
   "metadata": {
    "collapsed": false
   },
   "outputs": [],
   "source": [
    "kilo=10.**3\n",
    "\n",
    "plt.plot(xp,a1[2]*kilo,label='Simps vs Alt')\n",
    "plt.plot(xp2,a1[2]*kilo,label='Trap vs Alt')\n",
    "plt.plot(xp3,a1[2]*kilo,label='CumTrap vs Alt')\n",
    "plt.plot(xp3,yp2+a1[2,0]*kilo,label='CumTrap vs CumTrap')\n",
    "plt.axis([0,12000,8000,20000])\n",
    "plt.legend()\n",
    "plt.show()"
   ]
  },
  {
   "cell_type": "code",
   "execution_count": 57,
   "metadata": {
    "collapsed": false
   },
   "outputs": [
    {
     "name": "stdout",
     "output_type": "stream",
     "text": [
      "9.11\n"
     ]
    }
   ],
   "source": [
    "print a1[2,0]"
   ]
  },
  {
   "cell_type": "code",
   "execution_count": null,
   "metadata": {
    "collapsed": true
   },
   "outputs": [],
   "source": []
  }
 ],
 "metadata": {
  "kernelspec": {
   "display_name": "Python [Root]",
   "language": "python",
   "name": "Python [Root]"
  },
  "language_info": {
   "codemirror_mode": {
    "name": "ipython",
    "version": 2
   },
   "file_extension": ".py",
   "mimetype": "text/x-python",
   "name": "python",
   "nbconvert_exporter": "python",
   "pygments_lexer": "ipython2",
   "version": "2.7.12"
  }
 },
 "nbformat": 4,
 "nbformat_minor": 0
}

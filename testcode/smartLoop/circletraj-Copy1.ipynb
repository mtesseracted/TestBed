{
 "cells": [
  {
   "cell_type": "code",
   "execution_count": 22,
   "metadata": {
    "collapsed": false
   },
   "outputs": [],
   "source": [
    "import time\n",
    "import matplotlib\n",
    "matplotlib.use('TkAgg') # do this before importing pylab\n",
    "import matplotlib.pyplot as plt\n",
    "import numpy as np\n",
    "import scipy.integrate as ing\n",
    "\n",
    "#Circle trajectory adjustments:\n",
    "xcirc=3950   #xcenter\n",
    "ycirc=14550  #ycenter\n",
    "radc=3000    #radius center\n",
    "xstart=0.    #start x val\n",
    "xend=10000.  #ending x val\n",
    "ystart=ycirc - radc\n",
    "\n",
    "nc=1000 #data points in circle\n",
    "\n",
    "#get circl points starting at bottom\n",
    "def circlepts(xc,yc,r,frac):\n",
    "    yret=r*np.sin((frac-0.25)*2*np.pi)+yc\n",
    "    xret=r*np.cos((frac-0.25)*2*np.pi)+xc\n",
    "    return (xret, yret)\n",
    "\n",
    "\n",
    "xpts = np.empty(nc)\n",
    "ypts = np.empty(nc)\n",
    "for i in range(0,nc):    \n",
    "    xpts[i], ypts[i] = circlepts(xcirc,ycirc,radc,float(i)/float(nc))\n",
    "    \n",
    "\n",
    "xlin1= np.empty(nc/10)\n",
    "ylin1= np.empty(nc/10)\n",
    "xlin2= np.empty(nc/10)\n",
    "ylin2= np.empty(nc/10)\n",
    "delx=float(xcirc-xstart)/float(nc/10)\n",
    "delx2=float(xend-xcirc)/float(nc/10)\n",
    "for i in range(0,nc/10):\n",
    "    xlin1[i]=xstart + i*delx\n",
    "    ylin1[i]=ystart\n",
    "    xlin2[i]=xcirc + (i+1)*delx2\n",
    "    ylin2[i]=ystart\n",
    "\n",
    "xtraj=np.concatenate((xlin1,xpts,xlin2))\n",
    "ytraj=np.concatenate((ylin1,ypts,ylin2))\n",
    "\n",
    "    \n",
    "plt.plot(xtraj,ytraj)\n",
    "plt.axis(\"equal\")\n",
    "plt.show()"
   ]
  },
  {
   "cell_type": "code",
   "execution_count": 23,
   "metadata": {
    "collapsed": false
   },
   "outputs": [
    {
     "ename": "AttributeError",
     "evalue": "'MainWindow' object has no attribute 'after'",
     "output_type": "error",
     "traceback": [
      "\u001b[1;31m---------------------------------------------------------------------------\u001b[0m",
      "\u001b[1;31mAttributeError\u001b[0m                            Traceback (most recent call last)",
      "\u001b[1;32m<ipython-input-23-f3df276753c3>\u001b[0m in \u001b[0;36m<module>\u001b[1;34m()\u001b[0m\n\u001b[0;32m     16\u001b[0m \u001b[1;33m\u001b[0m\u001b[0m\n\u001b[0;32m     17\u001b[0m \u001b[0mwin\u001b[0m \u001b[1;33m=\u001b[0m \u001b[0mfig\u001b[0m\u001b[1;33m.\u001b[0m\u001b[0mcanvas\u001b[0m\u001b[1;33m.\u001b[0m\u001b[0mmanager\u001b[0m\u001b[1;33m.\u001b[0m\u001b[0mwindow\u001b[0m\u001b[1;33m\u001b[0m\u001b[0m\n\u001b[1;32m---> 18\u001b[1;33m \u001b[0mfig\u001b[0m\u001b[1;33m.\u001b[0m\u001b[0mcanvas\u001b[0m\u001b[1;33m.\u001b[0m\u001b[0mmanager\u001b[0m\u001b[1;33m.\u001b[0m\u001b[0mwindow\u001b[0m\u001b[1;33m.\u001b[0m\u001b[0mafter\u001b[0m\u001b[1;33m(\u001b[0m\u001b[1;36m100\u001b[0m\u001b[1;33m,\u001b[0m \u001b[0manimate\u001b[0m\u001b[1;33m)\u001b[0m\u001b[1;33m\u001b[0m\u001b[0m\n\u001b[0m\u001b[0;32m     19\u001b[0m \u001b[0mplt\u001b[0m\u001b[1;33m.\u001b[0m\u001b[0mshow\u001b[0m\u001b[1;33m(\u001b[0m\u001b[1;33m)\u001b[0m\u001b[1;33m\u001b[0m\u001b[0m\n",
      "\u001b[1;31mAttributeError\u001b[0m: 'MainWindow' object has no attribute 'after'"
     ]
    }
   ],
   "source": [
    "\n",
    "import matplotlib.pyplot as plt\n",
    "fig = plt.figure()\n",
    "ax = fig.add_subplot(111)\n",
    "\n",
    "def animate():\n",
    "    tstart = time.time()                   # for profiling\n",
    "    data=np.random.randn(10,10)\n",
    "    im=plt.imshow(data)\n",
    "\n",
    "    for i in np.arange(1,200):\n",
    "        data=np.random.randn(10,10)\n",
    "        im.set_data(data)\n",
    "        fig.canvas.draw()                         # redraw the canvas\n",
    "    print 'FPS:' , 200/(time.time()-tstart)\n",
    "\n",
    "win = fig.canvas.manager.window\n",
    "fig.canvas.manager.window.after(100, animate)\n",
    "plt.show()"
   ]
  },
  {
   "cell_type": "code",
   "execution_count": null,
   "metadata": {
    "collapsed": true
   },
   "outputs": [],
   "source": []
  }
 ],
 "metadata": {
  "kernelspec": {
   "display_name": "Python [Root]",
   "language": "python",
   "name": "Python [Root]"
  },
  "language_info": {
   "codemirror_mode": {
    "name": "ipython",
    "version": 2
   },
   "file_extension": ".py",
   "mimetype": "text/x-python",
   "name": "python",
   "nbconvert_exporter": "python",
   "pygments_lexer": "ipython2",
   "version": "2.7.12"
  }
 },
 "nbformat": 4,
 "nbformat_minor": 0
}

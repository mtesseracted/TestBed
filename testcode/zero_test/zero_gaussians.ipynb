{
 "cells": [
  {
   "cell_type": "code",
   "execution_count": 1,
   "metadata": {
    "collapsed": false
   },
   "outputs": [
    {
     "ename": "ImportError",
     "evalue": "No module named pyvisa.vpp43",
     "output_type": "error",
     "traceback": [
      "\u001b[1;31m---------------------------------------------------------------------------\u001b[0m",
      "\u001b[1;31mImportError\u001b[0m                               Traceback (most recent call last)",
      "\u001b[1;32m<ipython-input-1-626f91ce871e>\u001b[0m in \u001b[0;36m<module>\u001b[1;34m()\u001b[0m\n\u001b[0;32m     16\u001b[0m \u001b[1;31m###Simply saying \"import visa\" won't work in OS X.\u001b[0m\u001b[1;33m\u001b[0m\u001b[1;33m\u001b[0m\u001b[0m\n\u001b[0;32m     17\u001b[0m \u001b[1;31m###We instead load the VISA library MANUALLY as follows:\u001b[0m\u001b[1;33m\u001b[0m\u001b[1;33m\u001b[0m\u001b[0m\n\u001b[1;32m---> 18\u001b[1;33m \u001b[1;32mfrom\u001b[0m \u001b[0mpyvisa\u001b[0m\u001b[1;33m.\u001b[0m\u001b[0mvpp43\u001b[0m \u001b[1;32mimport\u001b[0m \u001b[0mvisa_library\u001b[0m\u001b[1;33m\u001b[0m\u001b[0m\n\u001b[0m\u001b[0;32m     19\u001b[0m \u001b[0mvisa_library\u001b[0m\u001b[1;33m.\u001b[0m\u001b[0mload_library\u001b[0m\u001b[1;33m(\u001b[0m\u001b[1;34m\"/Library/Frameworks/Visa.framework/VISA\"\u001b[0m\u001b[1;33m)\u001b[0m\u001b[1;33m\u001b[0m\u001b[0m\n\u001b[0;32m     20\u001b[0m \u001b[1;33m\u001b[0m\u001b[0m\n",
      "\u001b[1;31mImportError\u001b[0m: No module named pyvisa.vpp43"
     ]
    }
   ],
   "source": [
    "import matplotlib.pyplot as plt\n",
    "import matplotlib\n",
    "#Set a high graphics resolution \n",
    "matplotlib.rc(\"savefig\", dpi=140) \n",
    "#Put plots in this page rather than as popups\n",
    "%matplotlib inline\n",
    "\n",
    "#Import NumPy package \n",
    "#And import all plotting commands.\n",
    "import numpy as np\n",
    "from matplotlib.pyplot import *\n",
    "from scipy.optimize import curve_fit\n",
    "import matplotlib.pyplot as plt\n",
    "\n",
    "#Import the PyVisa libraries.\n",
    "###Simply saying \"import visa\" won't work in OS X.  \n",
    "###We instead load the VISA library MANUALLY as follows:\n",
    "from pyvisa.vpp43 import visa_library\n",
    "visa_library.load_library(\"/Library/Frameworks/Visa.framework/VISA\")\n",
    "\n",
    "###Now it will work\n",
    "import visa\n",
    "\n",
    "# List the VISA Instruments available \n",
    "# and store this in a variable.\n",
    "our_instruments = visa.get_instruments_list()\n",
    "\n",
    "#Connect to the first instrument in the list \n",
    "# (We assume this is going to be the right one \n",
    "# because you will only have one digital multimeter plugged in!)\n",
    "inst = visa.Instrument(our_instruments[0])\n",
    "\n",
    "inst.write(':RATE:VOLTage:DC F')\n",
    "\n",
    "print \"test1: \", float(inst.ask(':MEASure:VOLTage:DC?'))\n",
    "#print \"test2: \", float(inst.ask(':MEASure:VOLTage:DC?'))"
   ]
  },
  {
   "cell_type": "code",
   "execution_count": 2,
   "metadata": {
    "collapsed": true
   },
   "outputs": [],
   "source": [
    "#Function to return mean and std dev of mean of n samples\n",
    "def meanRd(n):\n",
    "    #n is samples\n",
    "    vin=np.empty(n)\n",
    "    for i in range(0,n):\n",
    "        vin[i]=float(inst.ask(':MEASure:VOLTage:DC?'))\n",
    "    return (np.mean(vin), np.std(vin)/np.sqrt(n))\n",
    "\n",
    "#Linear fit\n",
    "def linfit(x, *p):\n",
    "    m, b = p\n",
    "    return ((m*x)+b)\n",
    "\n",
    "#Single Power law fit\n",
    "def pfit(x, *p):\n",
    "    a, b, c, d = p\n",
    "    return (a*(x-b)**c)+d\n",
    "\n",
    "# Gaussian fit\n",
    "def gauss(x, *p):\n",
    "    A, mu, sigma = p\n",
    "    return A*numpy.exp(-(x-mu)**2/(2.*sigma**2))"
   ]
  },
  {
   "cell_type": "code",
   "execution_count": 22,
   "metadata": {
    "collapsed": false
   },
   "outputs": [],
   "source": [
    "arr = [None]*10\n",
    "for i in range(len(arr2)):\n",
    "    arr[i] = np.empty((i+1)*1000)\n"
   ]
  },
  {
   "cell_type": "code",
   "execution_count": 23,
   "metadata": {
    "collapsed": true
   },
   "outputs": [],
   "source": [
    "for i in range(len(arr)):\n",
    "    for j in range(len(arr[i])):\n",
    "        arr[i][j] = float(inst.ask(':MEASure:VOLTage:DC?'))"
   ]
  },
  {
   "cell_type": "code",
   "execution_count": 26,
   "metadata": {
    "collapsed": false
   },
   "outputs": [],
   "source": [
    "for i in range(len(arr)):\n",
    "    fnam = \"zero\" + str(i+1) + \"K.csv\"\n",
    "    np.savetxt(fnam,arr[i],delimiter=',')"
   ]
  },
  {
   "cell_type": "code",
   "execution_count": null,
   "metadata": {
    "collapsed": true
   },
   "outputs": [],
   "source": []
  }
 ],
 "metadata": {
  "kernelspec": {
   "display_name": "Python [Root]",
   "language": "python",
   "name": "Python [Root]"
  },
  "language_info": {
   "codemirror_mode": {
    "name": "ipython",
    "version": 2
   },
   "file_extension": ".py",
   "mimetype": "text/x-python",
   "name": "python",
   "nbconvert_exporter": "python",
   "pygments_lexer": "ipython2",
   "version": "2.7.12"
  }
 },
 "nbformat": 4,
 "nbformat_minor": 0
}

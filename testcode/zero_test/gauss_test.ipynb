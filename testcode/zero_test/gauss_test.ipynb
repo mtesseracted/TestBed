{
 "cells": [
  {
   "cell_type": "code",
   "execution_count": 1,
   "metadata": {
    "collapsed": true
   },
   "outputs": [],
   "source": [
    "import matplotlib.pyplot as plt\n",
    "import matplotlib\n",
    "#Set a high graphics resolution \n",
    "#matplotlib.rc(\"savefig\", dpi=140) \n",
    "#Put plots in this page rather than as popups\n",
    "#%matplotlib inline\n",
    "\n",
    "#Import NumPy package \n",
    "#And import all plotting commands.\n",
    "import numpy as np\n",
    "from matplotlib.pyplot import *\n",
    "from scipy.optimize import curve_fit\n",
    "import matplotlib.pyplot as plt\n",
    "\n",
    "#Linear fit\n",
    "def linfit(x, *p):\n",
    "    m, b = p\n",
    "    return ((m*x)+b)\n",
    "\n",
    "#Single Power law fit\n",
    "def pfit(x, *p):\n",
    "    a, b, c, d = p\n",
    "    return (a*(x-b)**c)+d\n",
    "\n",
    "# Gaussian fit\n",
    "def gauss(x, *p):\n",
    "    A, mu, sigma = p\n",
    "    return A*numpy.exp(-(x-mu)**2/(2.*sigma**2))"
   ]
  },
  {
   "cell_type": "code",
   "execution_count": 2,
   "metadata": {
    "collapsed": true
   },
   "outputs": [],
   "source": [
    "cnt = 10\n",
    "arr = [None]*cnt\n",
    "\n",
    "for i in range(cnt):\n",
    "    fnam = \"zero\" + str(i+1) + \"K.csv\"\n",
    "    arr[i] = np.loadtxt(fnam,delimiter=',')"
   ]
  },
  {
   "cell_type": "code",
   "execution_count": 10,
   "metadata": {
    "collapsed": false
   },
   "outputs": [],
   "source": [
    "xd = [None]*cnt\n",
    "yd = [None]*cnt\n",
    "\n",
    "for i in range(0,cnt,1):\n",
    "    yd[i], xd[i] = np.histogram(arr[i],bins=(100 +10*i))\n",
    "    xd[i] = (xd[i][1:]+xd[i][:-1])/2.0\n",
    "    lab = str(i+1) + \"K, std=\" +\"{0:.4e}\".format(arr[i].std())\n",
    "    if i < (cnt/2):\n",
    "        pts = '--'\n",
    "    else :\n",
    "        pts = '-.'\n",
    "        \n",
    "    plt.plot(xd[i],yd[i]/float(yd[i].max()),pts,label=lab)\n",
    "\n",
    "\n",
    "plt.legend()\n",
    "plt.show()"
   ]
  },
  {
   "cell_type": "code",
   "execution_count": 7,
   "metadata": {
    "collapsed": false
   },
   "outputs": [
    {
     "name": "stdout",
     "output_type": "stream",
     "text": [
      "0.00154328406593\n"
     ]
    }
   ],
   "source": [
    "print arr[0].std()"
   ]
  },
  {
   "cell_type": "code",
   "execution_count": null,
   "metadata": {
    "collapsed": false
   },
   "outputs": [],
   "source": [
    "sarr = np.empty(cnt)\n",
    "xarr = np.empty(cnt)\n",
    "for i in range(cnt):\n",
    "    xarr[i] = 1+i\n",
    "    sarr[i] = arr[i].std()\n",
    "    \n",
    "plt.plot(xarr,sarr)\n",
    "plt.show()"
   ]
  },
  {
   "cell_type": "code",
   "execution_count": null,
   "metadata": {
    "collapsed": true
   },
   "outputs": [],
   "source": []
  }
 ],
 "metadata": {
  "kernelspec": {
   "display_name": "Python [Root]",
   "language": "python",
   "name": "Python [Root]"
  },
  "language_info": {
   "codemirror_mode": {
    "name": "ipython",
    "version": 2
   },
   "file_extension": ".py",
   "mimetype": "text/x-python",
   "name": "python",
   "nbconvert_exporter": "python",
   "pygments_lexer": "ipython2",
   "version": "2.7.12"
  }
 },
 "nbformat": 4,
 "nbformat_minor": 0
}

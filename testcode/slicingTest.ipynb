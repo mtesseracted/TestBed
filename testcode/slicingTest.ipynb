{
 "cells": [
  {
   "cell_type": "code",
   "execution_count": 30,
   "metadata": {
    "collapsed": false
   },
   "outputs": [
    {
     "name": "stdout",
     "output_type": "stream",
     "text": [
      "[ 1.20498963  1.6682326   2.02829978  2.33345238  2.6030751   2.8472794\n",
      "  3.07213281  3.28161546  3.47850543]\n",
      "22.5175825822\n",
      "\n",
      "22.5175825822\n"
     ]
    }
   ],
   "source": [
    "import numpy as np\n",
    "x = np.linspace(0.1,10.,10)\n",
    "y = x**0.5\n",
    "\n",
    "def intrhr(x,y):\n",
    "    dx = x[1:]-x[:-1]\n",
    "    print y[1:]*dx\n",
    "    return np.sum(y[1:]*dx)\n",
    "\n",
    "s1 = np.empty(0)\n",
    "p = np.empty(0)\n",
    "for i in range(len(x)):\n",
    "    dx = x[1:]-x[:-1]\n",
    "    p = (y[1:]*dx)\n",
    "    s1 = np.zeros(len(p))\n",
    "    for i in range(len(p)):\n",
    "        s1[i] = np.sum(p[:i+1])\n",
    "\n",
    "i1 = intrhr(x,y)\n",
    "print i1\n",
    "print \n",
    "print s1[-1]\n"
   ]
  },
  {
   "cell_type": "code",
   "execution_count": 28,
   "metadata": {
    "collapsed": false
   },
   "outputs": [
    {
     "name": "stdout",
     "output_type": "stream",
     "text": [
      "[ 1.20498963  1.6682326   2.02829978  2.33345238  2.6030751   2.8472794\n",
      "  3.07213281  3.28161546  3.47850543]\n",
      "[ 1.20498963  1.6682326   2.02829978  2.33345238  2.6030751   2.8472794\n",
      "  3.07213281  3.28161546]\n"
     ]
    }
   ],
   "source": [
    "print (p)\n",
    "print (p[:len(p)-1])"
   ]
  },
  {
   "cell_type": "code",
   "execution_count": null,
   "metadata": {
    "collapsed": false
   },
   "outputs": [],
   "source": []
  },
  {
   "cell_type": "code",
   "execution_count": null,
   "metadata": {
    "collapsed": true
   },
   "outputs": [],
   "source": []
  },
  {
   "cell_type": "code",
   "execution_count": null,
   "metadata": {
    "collapsed": true
   },
   "outputs": [],
   "source": []
  }
 ],
 "metadata": {
  "kernelspec": {
   "display_name": "Python [Root]",
   "language": "python",
   "name": "Python [Root]"
  },
  "language_info": {
   "codemirror_mode": {
    "name": "ipython",
    "version": 2
   },
   "file_extension": ".py",
   "mimetype": "text/x-python",
   "name": "python",
   "nbconvert_exporter": "python",
   "pygments_lexer": "ipython2",
   "version": "2.7.12"
  }
 },
 "nbformat": 4,
 "nbformat_minor": 0
}

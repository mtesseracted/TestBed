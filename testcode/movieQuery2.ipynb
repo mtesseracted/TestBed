{
 "cells": [
  {
   "cell_type": "code",
   "execution_count": 92,
   "metadata": {
    "collapsed": false
   },
   "outputs": [],
   "source": [
    "import urllib2 as url #url query\n",
    "import ast #json to dict\n",
    "import pandas as pd #convert listed dict to DataFrame\n",
    "import numpy as np\n",
    "import re\n",
    "import inflect\n",
    "import math\n"
   ]
  },
  {
   "cell_type": "code",
   "execution_count": 129,
   "metadata": {
    "collapsed": false
   },
   "outputs": [],
   "source": [
    "http_api = \"http://www.omdbapi.com/\"\n",
    "\n",
    "#build query for exact name match\n",
    "def omdbNameQuery(title,year=None):\n",
    "    if year is None:\n",
    "        qstr = http_api+\"?t=\"\n",
    "        qstr += str(title).replace(\" \",\"%20\")\n",
    "    else:\n",
    "        qstr += \"&y=\"\n",
    "        qstr += str(year)    \n",
    "    \n",
    "    qstr += \"&tomatoes=true\"\n",
    "    return qstr\n",
    "\n",
    "\n",
    "#build query for keyword search\n",
    "def omdbSrchQuery(keyword,year=None):\n",
    "    if year is None:\n",
    "        qstr = http_api+\"?s=\"\n",
    "        qstr += str(keyword).replace(\" \",\"%20\")\n",
    "    else:\n",
    "        qstr += \"&y=\"\n",
    "        qstr += str(year)    \n",
    "    \n",
    "    #qstr += \"&tomates=true\" #not an option for search?\n",
    "    return qstr\n",
    "\n",
    "def getInts(str1):\n",
    "    if(type(str1) == type(\"\")):\n",
    "        return [int(s) for s in re.split(\"\\(|,|\\)| |\\[|\\]|_|\\.\",str1) if s.isdigit()]\n",
    "        #return [int(s) for s in str1.split() if s.isdigit()]\n",
    "    else:\n",
    "        return [\"\"]\n",
    "    \n",
    "#array of bools for binary representation\n",
    "def npbool(i):\n",
    "    if i == 0:\n",
    "        return [False]\n",
    "    else :\n",
    "        ba = np.empty(int(math.log(i,2)+1),dtype=bool)\n",
    "        #i-=1\n",
    "        for k in range(ba.shape[0]):\n",
    "            ba[k] = bool(i>>k&1)\n",
    "\n",
    "        return ba"
   ]
  },
  {
   "cell_type": "code",
   "execution_count": 93,
   "metadata": {
    "collapsed": false
   },
   "outputs": [
    {
     "name": "stdout",
     "output_type": "stream",
     "text": [
      "0\n",
      "1\n",
      "Title: 12 Monkeys\n",
      "Year: 2015–\n",
      "Type: series\n",
      "Genre(s): Adventure, Drama, Mystery\n",
      "IMDB Score: 7.6\n",
      "Rotten Tomato Metrics:\n",
      "N/A\n",
      "N/A\n",
      "N/A\n",
      "N/A\n",
      "N/A\n"
     ]
    }
   ],
   "source": [
    "#search for exact match\n",
    "nam = \"12 monkeys\"\n",
    "nums = getInts(nam)\n",
    "\n",
    "for i in range(2**(len(nums))):\n",
    "    print(i)\n",
    "try:\n",
    "    ret1 = url.urlopen(omdbNameQuery(nam)).read()\n",
    "    #print(ret1)\n",
    "    ret1d = ast.literal_eval(ret1) #convert to dict\n",
    "\n",
    "    if(ast.literal_eval(ret1d['Response'])): #check if movie was present\n",
    "        print(\"Title: \"+ret1d['Title'])\n",
    "        print(\"Year: \"+ret1d['Year'])\n",
    "        print(\"Type: \"+ret1d['Type'])\n",
    "        #print(ret1d.keys())\n",
    "        print(\"Genre(s): \"+ret1d['Genre'])\n",
    "        print(\"IMDB Score: \"+ret1d['imdbRating'])\n",
    "        print(\"Rotten Tomato Metrics:\")\n",
    "        print(ret1d['tomatoUserRating'])\n",
    "        print(ret1d['tomatoFresh'])\n",
    "        print(ret1d['tomatoUserMeter'])\n",
    "        print(ret1d['tomatoRating'])\n",
    "        print(ret1d['tomatoURL'])\n",
    "    else:\n",
    "        print(ret1d['Error'])\n",
    "    #print(ret1d)\n",
    "except (url.URLError,NameError) as e:\n",
    "    print(\"------------Error----------\")\n",
    "    print(e)\n",
    "    "
   ]
  },
  {
   "cell_type": "code",
   "execution_count": 158,
   "metadata": {
    "collapsed": false
   },
   "outputs": [
    {
     "name": "stdout",
     "output_type": "stream",
     "text": [
      "1, 2 (3)\n",
      "one, 2 (3)\n",
      "1, two (3)\n",
      "one, two (3)\n",
      "1, 2 (three)\n",
      "one, 2 (three)\n",
      "1, two (three)\n",
      "one, two (three)\n",
      "-------------\n",
      "1, 2 (3)\n",
      "1, two (3)\n",
      "1, two (3)\n",
      "1, two (3)\n",
      "1, two (3)\n",
      "1, two (3)\n",
      "1, two (3)\n",
      "1, two (3)\n"
     ]
    }
   ],
   "source": [
    "nam = \"1, 2 (3)\"\n",
    "nums = getInts(nam)\n",
    "p = inflect.engine()\n",
    "\n",
    "#since it's exponentiation and not multiplication, for nested\n",
    "# for loops you would need a nest per entry...\n",
    "a=0\n",
    "\n",
    "for i in range(0,2**(len(nums))):\n",
    "    #convert i to binary, the numerals are elements in a boolean array\n",
    "    #if ith element =True, replace that number with words\n",
    "    nstr = nam\n",
    "    ba = npbool(i)\n",
    "    #print(ba)\n",
    "    for j in range(len(ba)):\n",
    "        if ba[j] == True :\n",
    "            nstr = nstr.replace(str(nums[j]),p.number_to_words(nums[j]))\n",
    "\n",
    "    print(nstr)\n",
    "\n",
    "print(\"-------------\")\n",
    "        \n",
    "for j in range(0,2**(len(nums))):\n",
    "    #convert i to binary, the numerals are elements in a boolean array\n",
    "    #if ith element =True, replace that number with words\n",
    "    nstr = nam\n",
    "    for k in [i for i in npbool(j) if i == True] :\n",
    "        nstr = nstr.replace(str(nums[k]),p.number_to_words(nums[k]))\n",
    "\n",
    "    print(nstr)"
   ]
  },
  {
   "cell_type": "code",
   "execution_count": 156,
   "metadata": {
    "collapsed": false
   },
   "outputs": [
    {
     "data": {
      "text/plain": [
       "[True, True]"
      ]
     },
     "execution_count": 156,
     "metadata": {},
     "output_type": "execute_result"
    }
   ],
   "source": [
    "[i for i in npbool(9) if i == True]"
   ]
  },
  {
   "cell_type": "code",
   "execution_count": 29,
   "metadata": {
    "collapsed": false
   },
   "outputs": [],
   "source": [
    "#search with substring\n",
    "ret2 = url.urlopen(omdbSrchQuery(\"twelve\")).read()\n",
    "ret2d = ast.literal_eval(ret2) #convert to dict\n",
    "#print((ret2d['totalResults'])) #how many results\n",
    "t2d = pd.DataFrame(ret2d['Search']) #convert search results to DataFrame\n",
    "print(t2d.keys()) #result columns"
   ]
  },
  {
   "cell_type": "code",
   "execution_count": 80,
   "metadata": {
    "collapsed": false
   },
   "outputs": [
    {
     "name": "stdout",
     "output_type": "stream",
     "text": [
      "0                 Twelve Monkeys\n",
      "1                 Ocean's Twelve\n",
      "2                         Twelve\n",
      "3    The Twelve Tasks of Asterix\n",
      "4            Twelve O'Clock High\n",
      "5              The Twelve Chairs\n",
      "6                  Twelve Chairs\n",
      "7            The Twelve Kingdoms\n",
      "8                  Twenty Twelve\n",
      "9               Twelve Mile Road\n",
      "Name: Title, dtype: object\n"
     ]
    }
   ],
   "source": [
    "print (t2d['Title'])"
   ]
  },
  {
   "cell_type": "code",
   "execution_count": null,
   "metadata": {
    "collapsed": true
   },
   "outputs": [],
   "source": []
  },
  {
   "cell_type": "code",
   "execution_count": 100,
   "metadata": {
    "collapsed": false
   },
   "outputs": [],
   "source": [
    "imdbqstr = \"http://www.imdb.com/xml/find?json=1&nr=1&tt=on&q=\" #find?{json,xml,jsonp}\n",
    "searchstr = \"lost\"\n",
    "r3 = urllib2.urlopen(imdbqstr+searchstr).read().replace('\\n','') #replace newline"
   ]
  },
  {
   "cell_type": "code",
   "execution_count": 125,
   "metadata": {
    "collapsed": false
   },
   "outputs": [
    {
     "name": "stdout",
     "output_type": "stream",
     "text": [
      "{\"title_popular\": [{ \"id\":\"tt0411008\", \"title\":\"Lost\", \"name\":\"\",\"title_description\":\"2004 TV series,     <a href='/name/nm0009190/'>J.J. Abrams</a>...\",\"episode_title\":\"\",\"description\":\"2004 TV series,     <a href='/name/nm0009190/'>J.J. Abrams</a>...\"}],\"title_exact\": [{ \"id\":\"tt0406942\", \"title\":\"Lost\", \"name\":\"\",\"title_description\":\"2004/I,     <a href='/name/nm0501359/'>Darren Lemke</a>\",\"epi\n",
      "\n",
      "{\"title_popular\": [{ \"id\":\"tt0411008\", \"title\":\"Lost\", \"name\":\"\",\"title_description\":\"2004 TV series, J.J. Abrams\",\"episode_title\":\"\",\"description\":\"2004 TV series, J.J. Abrams\"}],\"title_exact\": [{ \"id\":\"tt0406942\", \"title\":\"Lost\", \"name\":\"\",\"title_description\":\"2004/I, Darren Lemke</a>\",\"episode_title\":\"\",\"description\":\"2004/I, Darren Lemke</a>\"},{ \"id\":\"tt0391302\", \"title\":\"Lost\", \"name\":\"\",\"tit\n"
     ]
    }
   ],
   "source": [
    "r4 = re.sub(r\"    <a href=(.*?)>\",'',r3).replace('</a>...','') #replace links with nothing\n",
    "print(r4[:400])"
   ]
  },
  {
   "cell_type": "code",
   "execution_count": 129,
   "metadata": {
    "collapsed": false
   },
   "outputs": [],
   "source": [
    "#test what happens if we query as fast as we possibly can\n",
    "r30 = urllib2.urlopen(\"http://www.imdb.com/xml/find?json=1&nr=1&tt=on&q=lost\").read().replace('\\n','')\n",
    "\n",
    "for i in range(100):\n",
    "    r3 = urllib2.urlopen(\"http://www.imdb.com/xml/find?json=1&nr=1&tt=on&q=lost\").read().replace('\\n','')\n",
    "    if(r30 != r3):\n",
    "        print(r3)"
   ]
  },
  {
   "cell_type": "code",
   "execution_count": null,
   "metadata": {
    "collapsed": true
   },
   "outputs": [],
   "source": []
  }
 ],
 "metadata": {
  "anaconda-cloud": {},
  "kernelspec": {
   "display_name": "Python [conda root]",
   "language": "python",
   "name": "conda-root-py"
  },
  "language_info": {
   "codemirror_mode": {
    "name": "ipython",
    "version": 2
   },
   "file_extension": ".py",
   "mimetype": "text/x-python",
   "name": "python",
   "nbconvert_exporter": "python",
   "pygments_lexer": "ipython2",
   "version": "2.7.12"
  }
 },
 "nbformat": 4,
 "nbformat_minor": 2
}
